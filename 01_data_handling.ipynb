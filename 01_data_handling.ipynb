{
  "nbformat": 4,
  "nbformat_minor": 0,
  "metadata": {
    "colab": {
      "provenance": [],
      "toc_visible": true,
      "authorship_tag": "ABX9TyN3L73TrNRg/eKCU0R5AexA",
      "include_colab_link": true
    },
    "kernelspec": {
      "name": "python3",
      "display_name": "Python 3"
    },
    "language_info": {
      "name": "python"
    }
  },
  "cells": [
    {
      "cell_type": "markdown",
      "metadata": {
        "id": "view-in-github",
        "colab_type": "text"
      },
      "source": [
        "<a href=\"https://colab.research.google.com/github/wakristensen/machine-learning-workshop/blob/main/01_data_handling.ipynb\" target=\"_parent\"><img src=\"https://colab.research.google.com/assets/colab-badge.svg\" alt=\"Open In Colab\"/></a>"
      ]
    },
    {
      "cell_type": "markdown",
      "source": [
        "# 01 EDA, Rens og kundefeatures\n",
        "\n",
        "<div class=\"badges\">\n",
        "  <a>⏱️ 40 min</a>\n",
        "  <a>👩‍💻 Hands-on</a>\n",
        "  <a>📦 UK Online Retail 2010–2011</a>\n",
        "</div>\n",
        "\n",
        "I denne notebooken laster vi inn data, utforsker datastruktur, rydder verdier og lager kundesentrerte variabler som grunnlag for segmentering. Kjør cellene i rekkefølge"
      ],
      "metadata": {
        "id": "nIL7Dubhobh0"
      }
    },
    {
      "cell_type": "markdown",
      "source": [
        "## Datasettet\n",
        "\n",
        "Vi skal bruker et transaksjonsdatasett fra en britisk netthandel. Datasettet inneholder transaksjoner mellom 2010 og 2011.\n",
        "\n",
        "Clustering kan brukes for å øke effektiviteten i markedsføringsstrategier og forbedre salget gjennom kundesegmentering og for analyseformål til innsikt, samt som variabler til ulike prediksjonsmodeller.\n",
        "\n",
        "Vi ønsker å transformere transaksjonsdataene til et kundesentrisk datasett ved å skape nye kundesentriske variabler som legger til rette for å segmentere kunder i ulike grupper ved hjelp av clusteringsalgoritmer. K-means clusteirng skal vi bruke i denne notebooken.\n",
        "\n",
        "Segmenteringen gir oss innsikt i de ulike profilenes særtrekk og preferanser.\n",
        "\n",
        "Disse kan brukes til å f.eks. utvikle et anbefalingssystem som foreslår bestselgende produkter til kunder innenfor hvert segment. Det overordnede forretningsmålet knyttet til segmentering kan være for å styrke markedsføringens effektivitet og bidra til økt salg."
      ],
      "metadata": {
        "id": "v7OMX2jAdIkD"
      }
    },
    {
      "cell_type": "markdown",
      "source": [
        "## Mål med denne delen\n",
        "- Datavask og transformasjon, håndtere manglende verdier, duplikater og avvik\n",
        "- Feature engineering, gjøre data kundesentrisk"
      ],
      "metadata": {
        "id": "NbghuZ9nomRG"
      }
    },
    {
      "cell_type": "markdown",
      "source": [
        "## Innholdsfortegnelse\n",
        "\n",
        "- **Steg 1 | Oppsett og initialisering**  \n",
        "  - Steg 1.1 | Importere nødvendige biblioteker  \n",
        "  - Steg 1.2 | Laste inn datasettet  \n",
        "\n",
        "- **Steg 2 | Innledende dataanalyse**  \n",
        "  - Steg 2.1 | Oversikt over datasettet  \n",
        "  - Steg 2.2 | Oppsummerende statistikk  \n",
        "\n",
        "- **Steg 3 | Datavask og transformasjon**  \n",
        "  - Steg 3.1 | Håndtering av manglende verdier  \n",
        "  - Steg 3.2 | Håndtering av duplikater  \n",
        "  - Steg 3.3 | Behandling av kansellerte transaksjoner  \n",
        "  - Steg 3.4 | Rette opp StockCode-anomalier  \n",
        "  - Steg 3.5 | Rense beskrivelseskolonnen  \n",
        "  - Steg 3.6 | Behandle nullverdier i UnitPrice"
      ],
      "metadata": {
        "id": "MGa5j1h2seLG"
      }
    },
    {
      "cell_type": "markdown",
      "source": [
        "## Steg 1 · Oppsett og initialisering\n"
      ],
      "metadata": {
        "id": "abuOrclEsC2U"
      }
    },
    {
      "cell_type": "markdown",
      "source": [
        "### 1.1 | Importere nødvendige biblioteker\n"
      ],
      "metadata": {
        "id": "ysyPcuP-sIpP"
      }
    },
    {
      "cell_type": "code",
      "source": [
        "import pandas as pd\n",
        "import numpy as np\n",
        "import matplotlib.pyplot as plt"
      ],
      "metadata": {
        "id": "e6F_2DeEvTY4"
      },
      "execution_count": null,
      "outputs": []
    },
    {
      "cell_type": "markdown",
      "source": [
        "### 1.2 | Laste inn datasettet\n"
      ],
      "metadata": {
        "id": "oQ26kaa_sLqH"
      }
    },
    {
      "cell_type": "code",
      "source": [
        "file_id = \"1Ku-y5BE5CdGQwzEMQ491cfIYWILS6T8U\"\n",
        "url = f\"https://drive.google.com/uc?id={file_id}\"\n",
        "\n",
        "df = pd.read_csv(url, encoding=\"latin1\")\n",
        "print(\"Data lastet inn\")\n",
        "print(\"\")\n",
        "display(df.head(3))\n",
        "print(\"\")"
      ],
      "metadata": {
        "id": "4ocMBfHwoxv2"
      },
      "execution_count": null,
      "outputs": []
    },
    {
      "cell_type": "markdown",
      "source": [
        "#### Beskrivelse av datasettet\n",
        "\n",
        "|  Kolonne        | Beskrivelse |\n",
        "|-----------------|-------------|\n",
        "| **InvoiceNo**   | Id som representerer hver unike transaksjon. Hvis koden starter med bokstaven **C**, betyr det at transaksjonen er en kansellering. |\n",
        "| **StockCode**   | Unik ID per produkt. |\n",
        "| **Description** | Tekstbeskrivelse av hvert produkt.|\n",
        "| **Quantity**    | Antall enheter av et produkt i en transaksjon.|\n",
        "| **InvoiceDate** | Dato og klokkeslett for transaksjonen. |\n",
        "| **UnitPrice**   | Enhetspris for produktet (i pund).|\n",
        "| **CustomerID**  | Unik id per kunde. |\n",
        "| **Country**     | Landet kunden tilhører / bestiller til |\n"
      ],
      "metadata": {
        "id": "-LnC0zkpvk0n"
      }
    },
    {
      "cell_type": "markdown",
      "source": [
        "## Steg 2 · Dataoversikt\n",
        "Hva finnes i datasettet, hvilke typer, hvor mye mangler.\n"
      ],
      "metadata": {
        "id": "rKJ4H1j7o-DG"
      }
    },
    {
      "cell_type": "markdown",
      "source": [
        "### 2.1 | Oversikt over datasettet"
      ],
      "metadata": {
        "id": "_VrEIBr80IU5"
      }
    },
    {
      "cell_type": "code",
      "source": [
        "df.head(10)"
      ],
      "metadata": {
        "id": "ag2y7tIao_Mt"
      },
      "execution_count": null,
      "outputs": []
    },
    {
      "cell_type": "markdown",
      "source": [
        "#### Oppgave – Utforske datastruktur og datatyper\n",
        "\n",
        "Kjør `df.info()` for å undersøke datasettet.\n",
        "\n",
        "1. Hvor mange rader og kolonner finnes i datasettet?  \n",
        "2. Hvilke datatyper har de ulike kolonnene?  \n",
        "3. Hvilke kolonner har manglende verdier?\n",
        "4. Hvilken datatype er **InvoiceDate**, hva burde den være?  \n",
        "5. Hvilken datatype er **CustomerID**, og hva forteller de mange `NaN`-verdiene oss?\n"
      ],
      "metadata": {
        "id": "_-kDG_IM17FV"
      }
    },
    {
      "cell_type": "code",
      "source": [
        "df.info()"
      ],
      "metadata": {
        "id": "qUXPF4z-1g-V"
      },
      "execution_count": null,
      "outputs": []
    },
    {
      "cell_type": "markdown",
      "source": [
        "<details>\n",
        "<summary>📖 Svarforslag (klikk for å åpne)</summary>\n",
        "\n",
        "1. **Rader og kolonner:** 541 909 rader og 8 kolonner.  \n",
        "2. **Datatyper:**  \n",
        "   - InvoiceNo → object (streng)  \n",
        "   - StockCode → object (streng)  \n",
        "   - Description → object (streng, med NaN)  \n",
        "   - Quantity → int64  \n",
        "   - InvoiceDate → object (streng, men burde være datetime)  \n",
        "   - UnitPrice → float64  \n",
        "   - CustomerID → float64 (egentlig en ID, ikke et tall, når vi har håndternt null-verdier kan vi konvertere den til *`Int64`* eller *`string`*.\n",
        "   - Country → object (streng)  \n",
        "\n",
        "3. **Manglende verdier:**  \n",
        "   - Description har 1 454 manglende verdier  \n",
        "   - CustomerID har 135 080 manglende verdier  \n",
        "\n",
        "4. **InvoiceDate:** Er lagret som `object` (streng), men bør konverteres til `datetime` med `pd.to_datetime()`.  \n",
        "\n",
        "5. **CustomerID:** Er `float64` fordi kolonnen har `NaN`. Når vi håndterer NaN kan vi gjøre den til heltall (`Int64`).  \n",
        "\n",
        "6. **object:** I Pandas betyr dette vanligvis **tekst** (string), men kan i prinsippet være hva som helst. I praksis = “ikke-numerisk data”.  \n",
        "\n",
        "</details>\n"
      ],
      "metadata": {
        "id": "-ge02R0W2IB1"
      }
    },
    {
      "cell_type": "markdown",
      "source": [
        "###  2.2 | Statistikk om datasettet"
      ],
      "metadata": {
        "id": "P-C_nz4M0RGk"
      }
    },
    {
      "cell_type": "markdown",
      "source": [
        "Vi lager oppsummerende statistikk for å få innsikt i fordelingen av dataene:\n"
      ],
      "metadata": {
        "id": "ilSvyKRh7JbR"
      }
    },
    {
      "cell_type": "code",
      "source": [
        "# Oppsummering for numeriske variabler\n",
        "df.describe()"
      ],
      "metadata": {
        "id": "ZPbCqF4A7Qed"
      },
      "execution_count": null,
      "outputs": []
    },
    {
      "cell_type": "code",
      "source": [
        "# Summary statistics for categorical variables\n",
        "df.describe(include='object').T"
      ],
      "metadata": {
        "id": "SUtcOsH57kmU"
      },
      "execution_count": null,
      "outputs": []
    },
    {
      "cell_type": "markdown",
      "source": [
        "#### Oppgave - statistikk om datasettet\n",
        "Se tabellene over\n",
        "\n",
        "1. Snitt antall produkter per transaksjon?  \n",
        "2. Hvorfor er det negative verdier i Quantity?  \n",
        "3. Hva er snitt enhetspris (UnitPrice), og hvorfor kan negative priser være problematiske?  \n",
        "4. Hvor mange kunder (CustomerID) finnes det, og hvor mange verdier mangler?  \n",
        "6. Hvilket produkt (StockCode og Description) forekommer oftest?  \n",
        "7. Hvor mange land er representert, og hvilket land dominerer?  "
      ],
      "metadata": {
        "id": "voxjeMiG8wOP"
      }
    },
    {
      "cell_type": "markdown",
      "source": [
        "<details>\n",
        "<summary>📖 Svarforslag (klikk for å åpne)</summary>\n",
        "\n",
        "- **Quantity:**  \n",
        "  - Gjennomsnitt ≈ 9,55 per transaksjon.  \n",
        "  - Verdiene varierer fra -80 995 til 80 995.  \n",
        "  - Negative verdier = returer eller kanselleringer.  \n",
        "  - Stor spredning (høyt standardavvik) og tydelige uteliggere.  \n",
        "\n",
        "- **UnitPrice:**  \n",
        "  - Gjennomsnitt ≈ 4,61.  \n",
        "  - Verdiene varierer fra -11 062,06 til 38 970.  \n",
        "  - Negative priser gir ikke mening → tyder på feil i data.  \n",
        "  - Stor forskjell mellom maks og 75%-percentilen → uteliggere.  \n",
        "\n",
        "- **CustomerID:**  \n",
        "  - 406 829 ikke-null verdier (mange mangler).  \n",
        "  - ID-er fra 12 346 til 18 287 → representerer unike kunder.  \n",
        "\n",
        "- **InvoiceNo:**  \n",
        "  - Ca. 25 900 unike fakturaer → 25 900 transaksjoner.  \n",
        "  - Mest frekvente: **573585**, dukker opp 1114 ganger.  \n",
        "\n",
        "- **StockCode:**  \n",
        "  - 4 070 unike produktkoder.  \n",
        "  - Mest frekvente: **85123A**, dukker opp 2313 ganger.  \n",
        "\n",
        "- **Description:**  \n",
        "  - 4 223 unike produktbeskrivelser.  \n",
        "  - Mest frekvente: **“WHITE HANGING HEART T-LIGHT HOLDER”**, dukker opp 2369 ganger.  \n",
        "  - Har manglende verdier.\n",
        "  - Enkelte beskrivelser forekommer flere ganger på ulike *stockCodes*.\n",
        "\n",
        "- **Country:**  \n",
        "  - 38 land representert.  \n",
        "  - Storbritannia dominerer (≈ 91,4 % av transaksjonene).  \n",
        "\n",
        "</details>\n"
      ],
      "metadata": {
        "id": "yrcpm6ow9Asp"
      }
    },
    {
      "cell_type": "markdown",
      "source": [
        "## Steg 3 · Datavask og transformasjon\n",
        "I dette steget renser og transformerer vi datasettet for å gjøre det mer presist og brukbart.\n",
        "\n",
        "Det inkluderer:\n",
        "- Håndtere manglende verdier\n",
        "- Fjerne duplikater\n",
        "- rette opp i rare produktkoder og beskrivelser\n",
        "- Andre justeringer for å forberede dataene til videre analyse og modellering.  \n"
      ],
      "metadata": {
        "id": "85Gj9tJA98WN"
      }
    },
    {
      "cell_type": "markdown",
      "source": [
        "### 3.1 | Håndtering av manglende verdier\n",
        "Vi finner prosentandelen med manglende verdier i hver kolonne, og velger den mest hensiktsmessige strategien for å håndtere dem:\n",
        "\n",
        "\n",
        "\n",
        "\n",
        "\n",
        "\n"
      ],
      "metadata": {
        "id": "4kJM9vI--W4A"
      }
    },
    {
      "cell_type": "code",
      "source": [
        "# prosentandel av manglende verdier for hver kolonne\n",
        "missing_data = df.isnull().sum()\n",
        "missing_percentage = (missing_data[missing_data > 0] / df.shape[0]) * 100\n",
        "\n",
        "# Sorterer etter flest manglende verdier\n",
        "missing_percentage.sort_values(ascending=True, inplace=True)\n",
        "\n",
        "# Plotter\n",
        "fig, ax = plt.subplots(figsize=(15, 4))\n",
        "ax.barh(missing_percentage.index, missing_percentage, color='#ff6200')\n",
        "\n",
        "# Legger til prosenter\n",
        "for i, (value, name) in enumerate(zip(missing_percentage, missing_percentage.index)):\n",
        "    ax.text(value+0.5, i, f\"{value:.2f}%\", ha='left', va='center', fontweight='bold', fontsize=18, color='black')\n",
        "\n",
        "# Set x-axis limit\n",
        "ax.set_xlim([0, 40])\n",
        "\n",
        "# Add title and xlabel\n",
        "plt.title(\"Percentage of Missing Values\", fontweight='bold', fontsize=22)\n",
        "plt.xlabel('Percentages (%)', fontsize=16)\n",
        "plt.show()"
      ],
      "metadata": {
        "id": "dmUs9jD7-w8H"
      },
      "execution_count": null,
      "outputs": []
    },
    {
      "cell_type": "code",
      "source": [
        "# Ser på rader som mangler verdier i 'CustomerID' eller 'Description'\n",
        "df[df['CustomerID'].isnull() | df['Description'].isnull()]"
      ],
      "metadata": {
        "id": "MQmD06SsBmGL"
      },
      "execution_count": null,
      "outputs": []
    },
    {
      "cell_type": "markdown",
      "source": [
        "#### Oppgave – Strategi for manglende verdier\n",
        "\n",
        "Med oversikt over manglende verdier vurder:\n",
        "\n",
        "- Hvilke strategier kan vi gjøre for å håndtere dette (Fjerne rader, fylle inn med verdier, ignorere)?"
      ],
      "metadata": {
        "id": "kYpEqw1BAKBa"
      }
    },
    {
      "cell_type": "markdown",
      "source": [
        "<details>\n",
        "<summary> Forslag til svar </summary>\n",
        "\n",
        "**CustomerID (24,93 % manglende verdier)**  \n",
        "\n",
        "- Denne kolonnen er sentral for å kunne klustre kunder og bygge et anbefalingssystem.\n",
        "- Å fylle inn så stor andel manglende verdier vil fort gi skjevheter eller støy.\n",
        "- Siden klustringen skal baseres på kundeadferd og preferanser, er det viktig å ha nøyaktige data på kundeidentifikatorene.\n",
        "- Beste løsning: Fjerne rader som mangler *CustomerID*, for å sikre kvalitet i klustrene og analysen.  \n",
        "\n",
        "---\n",
        "\n",
        "**Description (0,27 % manglende verdier)**  \n",
        "\n",
        "- Liten andel manglende verdier.\n",
        "- Inkonsistens i dataene, samme *StockCode* har ikke alltid har samme *Description*.\n",
        "- På grunn av disse inkonsistensene vil det være ikke så pålitelig å fylle inn de manglende verdiene basert på *StockCode*.\n",
        "- Beste løsning: Siden andelen manglende verdier er så lav, er det fornuftig å fjerne radene med manglende *Description*, slik at vi unngår å spre feil og inkonsistens i analysene.\n",
        "\n",
        "---\n",
        "\n",
        "Ved å fjerne radene med manglende verdier i *CustomerID* og *Description* får vi et renere, mer pålitelig og bedre datasett, det er viktig for god klustring og bygge et bra anbefalingssystem.\n"
      ],
      "metadata": {
        "id": "hzY6w0PI_dcX"
      }
    },
    {
      "cell_type": "code",
      "source": [
        "# Fjerner rader med null-verdier i 'CustomerID' og 'Description' kolonnene\n",
        "df = df.dropna(subset=['CustomerID', 'Description'])"
      ],
      "metadata": {
        "id": "FVif7H5tBrJf"
      },
      "execution_count": null,
      "outputs": []
    },
    {
      "cell_type": "code",
      "source": [
        "# Verifiserer at manglende verdier er fjernet\n",
        "df.isnull().sum()"
      ],
      "metadata": {
        "id": "5uKa8lcwBsyD"
      },
      "execution_count": null,
      "outputs": []
    },
    {
      "cell_type": "markdown",
      "source": [
        "### 3.2 | Håndtering av duplikater\n",
        "Neste steg er å finne dupliserte rader i datasettet"
      ],
      "metadata": {
        "id": "qCu-GYJ9CPBc"
      }
    },
    {
      "cell_type": "code",
      "source": [
        "# Finne dupliserte rader\n",
        "duplicate_rows = df[df.duplicated(keep=False)]\n",
        "\n",
        "# Sortere datafor å se dupliserte rader ved siden av hverandre\n",
        "duplicate_rows_sorted = duplicate_rows.sort_values(by=['InvoiceNo', 'StockCode', 'Description', 'CustomerID', 'Quantity'])\n",
        "\n",
        "# Inspiserer dupliserte rader\n",
        "duplicate_rows_sorted"
      ],
      "metadata": {
        "id": "ofnW-dsoCZhk"
      },
      "execution_count": null,
      "outputs": []
    },
    {
      "cell_type": "markdown",
      "source": [
        "#### Strategi for håndtering av duplikater\n",
        "\n",
        "1. Hvor mange identiske rader som finnes i datasettet.  \n",
        "2. Hva kan være årsaken til at vi har helt identiske rader?\n",
        "3. Hva kan konsekvensen bli dersom vi beholder duplikatene i datasettet når vi senere skal klustre kunder eller lage et anbefalingssystem?  \n"
      ],
      "metadata": {
        "id": "9DPEiGd3Cp59"
      }
    },
    {
      "cell_type": "markdown",
      "source": [
        "<details>\n",
        "<summary> Forslag til svar </summary>\n",
        "\n",
        "- **Antall duplikater:** Det finnes rader som er 100 % identiske, også med samme tidspunkt.  \n",
        "- **Årsak:** Mest sannsynlig feil i dataregistreringen, ikke reelle gjentatte kjøp.  \n",
        "- **Strategi:**  \n",
        "  - Hvis vi beholder dem, kan det introdusere støy og feil i analysene.  \n",
        "  - Ved å fjerne duplikater får vi et renere datasett.  \n",
        "\n",
        "**Konklusjon:**  \n",
        "Vi fjerner de identiske duplikat-radene for å:  \n",
        "- Sikre at klynger reflekterer unike kjøpsmønstre per kunde.  \n",
        "- Vil bidra til å lage et mer presist anbefalingssystem, basert på produkter som faktisk kjøpes mest.\n",
        "</details>\n"
      ],
      "metadata": {
        "id": "1ydlZpq0DDyA"
      }
    },
    {
      "cell_type": "code",
      "source": [
        "# Vise antall dupliserte rader\n",
        "print(f\"Datasettet inneholder {df.duplicated().sum()} dupliserte rader som bør fjernes.\")\n",
        "\n",
        "# Fjerne dupliserte rader\n",
        "df.drop_duplicates(inplace=True)\n",
        "\n",
        "# Sjekke at de er fjernet\n",
        "print(f\"Etter fjerning: {df.duplicated().sum()} dupliserte rader igjen.\")\n",
        "print(f\"Antall rader i datasettet nå: {len(df)}\")"
      ],
      "metadata": {
        "id": "R9yQyrsGDC-A"
      },
      "execution_count": null,
      "outputs": []
    },
    {
      "cell_type": "markdown",
      "source": [
        "### 3.3 | Behandling av kansellerte transaksjoner\n",
        "For å forstå kundeadferd og preferanser må vi ta hensyn til transaksjoner som ble kansellert.  \n",
        "\n",
        "Først identifiserer vi transaksjonene ved å filtrere radene der *InvoiceNo* starter med \"C\".\n",
        "\n",
        "Deretter analyserer vi disse radene for å se om vi finner noen felles kjennetegn eller mønstre for disse.  \n"
      ],
      "metadata": {
        "id": "rc1VodPcDk-l"
      }
    },
    {
      "cell_type": "markdown",
      "source": [
        "1. Vi lager  en ny kolonne `Transaction_Status` som markerer en rad som `Cancelled` hvis `InvoiceNo` starter med \"C\", ellers `Completed`.\n",
        "2. Hvor mange kansellerte transaksjoner er det i datasettet?  \n",
        "3. Vi analyser kansellerte rader med `.describe()` for å se om de har spesielle mønstre (f.eks. i `Quantity` eller `UnitPrice`).  "
      ],
      "metadata": {
        "id": "KP9WldhyFkAj"
      }
    },
    {
      "cell_type": "code",
      "source": [
        "# Lager Transaction_Status-kolonnen\n",
        "df['Transaction_Status'] = np.where(df['InvoiceNo'].astype(str).str.startswith('C'),\n",
        "                                    'Cancelled', 'Completed')\n",
        "# Filtrer kansellerte transaksjoner og lagrer som egen variabel\n",
        "cancelled_transactions = df[df['Transaction_Status'] == 'Cancelled']\n",
        "\n",
        "# .describe() på radene\n",
        "cancelled_transactions.describe().drop('CustomerID', axis=1)\n"
      ],
      "metadata": {
        "id": "AwUABlHMEPu3"
      },
      "execution_count": null,
      "outputs": []
    },
    {
      "cell_type": "markdown",
      "source": [
        "#### Observasjoner fra kansellerte transaksjoner\n",
        "\n",
        "- Alle verdiene i **Quantity** for de kansellerte transaksjonene er negative. Det bekrefter at radene representerer kansellerte eller returnerte ordre.  \n",
        "- **UnitPrice**-kolonnen har stor variasjon, noe som viser at et bredt spekter av produkter – inngår i de kansellerte transaksjonene.  \n"
      ],
      "metadata": {
        "id": "apaEXsmiF3kp"
      }
    },
    {
      "cell_type": "markdown",
      "source": [
        "#### Strategi for håndtering av kansellerte transaksjoner\n",
        "\n",
        "Med tanke på målet om å klustre kunder basert på kjøpsadferd og preferanser – og på sikt bygge et anbefalingssystem – er det viktig å forstå kanselleringsmønstrene til kundene.\n",
        "\n",
        "Derfor kan vi velge å beholde kansellerte transaksjonene i datasettet, men markere de slik at de kan analyseres separat senere.  \n",
        "\n",
        "Denne tilnærmingen gir to fordeler:  \n",
        "\n",
        "1. **Bedre klustring:**  \n",
        "   Kanselleringsmønstre kan reflektere spesielle typer kundeadferd eller preferanser, og bør derfor inngå i analysen.\n",
        "\n",
        "2. **Mer presise anbefalinger:**  \n",
        "   Ved å ta hensyn til hvilke produkter som ofte kanselleres, kan anbefalingssystemet unngå å foreslå produkter med høy sannsynlighet for retur eller kansellering. Det kan forbedrer kvaliteten på anbefalingene.  \n"
      ],
      "metadata": {
        "id": "NxMYzQKCGht6"
      }
    },
    {
      "cell_type": "code",
      "source": [
        "# Prosentandelen kansellerte transaksjoner\n",
        "cancelled_percentage = (cancelled_transactions.shape[0] / df.shape[0]) * 100\n",
        "\n",
        "print(f\"Andelen kansellerte transaksjoner i datasettet er: {cancelled_percentage:.2f}%\")\n"
      ],
      "metadata": {
        "id": "HvQlkZqGG4rp"
      },
      "execution_count": null,
      "outputs": []
    },
    {
      "cell_type": "markdown",
      "source": [
        "### 3.4 | Rette opp rariteter\n",
        "\n",
        "Vi finner unike produktkoder (*StockCode*) i datasettet, og visualisere de 10 mest brukte sammen med andelen av datasettet de utgjør.\n",
        "\n",
        "Vi undersøker om alle produktkodene i `StockCode` er gyldige.  \n",
        "\n",
        "1. Hvor mange talltegn (0–9) inneholder hver unike `StockCode`.  \n",
        "2. Hvor mange koder har ingen eller ett talltegn?  \n",
        "3. Hvilke kodene avviker fra normalen?  \n",
        "4. Hvor stor prosentandel av datasettet utgjør disse kodene?  \n",
        "5. Bør vi beholde eller fjerne disse kodene fra analysen?"
      ],
      "metadata": {
        "id": "siYaGWaXHKTs"
      }
    },
    {
      "cell_type": "code",
      "source": [
        "# Lager liste over unike StockCodes\n",
        "unique_stock_codes = df['StockCode'].unique()\n",
        "\n",
        "# Antall talltegn i hver kode\n",
        "numeric_char_counts_in_unique_codes = (\n",
        "    pd.Series(unique_stock_codes)\n",
        "    .apply(lambda x: sum(c.isdigit() for c in str(x)))\n",
        "    .value_counts()\n",
        ")\n",
        "\n",
        "# Lager fordeling (value_counts) av antall talltegn per kode\n",
        "print(\"Antall koder per antall talltegn:\")\n",
        "print(numeric_char_counts_in_unique_codes)\n",
        "\n",
        "\n",
        "# Finner koder med 0 eller 1 talltegn\n",
        "anomalous_stock_codes = [\n",
        "    code for code in unique_stock_codes\n",
        "    if sum(c.isdigit() for c in str(code)) in (0, 1)\n",
        "]\n",
        "print(\"\\nUnormale StockCodes:\")\n",
        "for code in anomalous_stock_codes:\n",
        "    print(code)\n",
        "\n",
        "# Prosentandelen av rader i df med unormale koder\n",
        "percentage_anomalous = (df['StockCode'].isin(anomalous_stock_codes).sum() / len(df)) * 100\n",
        "print(f\"\\nAndel av datasettet med unormale/anomalier: {percentage_anomalous:.2f}%\")\n",
        "\n",
        "# Fjerner disse\n",
        "df = df[~df['StockCode'].isin(anomalous_stock_codes)]\n"
      ],
      "metadata": {
        "id": "eSNeDmryHa9s"
      },
      "execution_count": null,
      "outputs": []
    },
    {
      "cell_type": "markdown",
      "source": [
        "### 3.5 | Renser beskrivelseskolonnen\n",
        "\n",
        "Vi finner antall forekomster per unik *Description*, og plotter de 30 mest bruke. For å få et bilde av hva som dominerer i datasettet."
      ],
      "metadata": {
        "id": "9h06BiTeHREH"
      }
    },
    {
      "cell_type": "code",
      "source": [
        "# Finn topp 30 mest brukte beskrivelser\n",
        "top_30 = df['Description'].value_counts().head(30)\n",
        "\n",
        "# Plot\n",
        "top_30.plot(kind=\"barh\", figsize=(10,6), color=\"#ff6200\")\n",
        "plt.title(\"Topp 30 mest brukte beskrivelser\")\n",
        "plt.show()"
      ],
      "metadata": {
        "id": "7lAmu-XYcCab"
      },
      "execution_count": null,
      "outputs": []
    },
    {
      "cell_type": "code",
      "source": [
        "# Finner beskrivelser som inneholder små bokstaver\n",
        "lowercase_desc = [d for d in df['Description'].dropna().unique() if any(c.islower() for c in str(d))]\n",
        "lowercase_desc[:25]  # vis de første 25"
      ],
      "metadata": {
        "id": "VgWeH1-hdDW4"
      },
      "execution_count": null,
      "outputs": []
    },
    {
      "cell_type": "markdown",
      "source": [
        "Hvilke av er produkter og hvilke er potensielt tjenester eller metadata?"
      ],
      "metadata": {
        "id": "3EagDo4adcMp"
      }
    },
    {
      "cell_type": "code",
      "source": [
        "# Fjern rader med service-relaterte beskrivelser\n",
        "service_related = [\"Next Day Carriage\", \"High Resolution Image\"]\n",
        "df = df[~df['Description'].isin(service_related)]\n",
        "\n",
        "# Standardiser resterende til uppercase\n",
        "df['Description'] = df['Description'].astype(str).str.upper()"
      ],
      "metadata": {
        "id": "RY2fUeindiWk"
      },
      "execution_count": null,
      "outputs": []
    },
    {
      "cell_type": "markdown",
      "source": [
        "### 3.6 | Behandler nullverdier i UnitPrice\n",
        "Undersøker `UnitPrice` for å se etter mistenkelige verdier.\n",
        "\n",
        "1. Bruk `.describe()` på `UnitPrice`.  \n",
        "2. Hva er minimumsverdien? Hva forteller det oss?  \n",
        "3. Hvor mange rader har `UnitPrice = 0`?  \n",
        "4. Diskuter: Hva bør vi gjøre med disse radene?  "
      ],
      "metadata": {
        "id": "jKGemyNrZPqn"
      }
    },
    {
      "cell_type": "code",
      "source": [
        "df = df[df['UnitPrice'] > 0]\n"
      ],
      "metadata": {
        "id": "HuzftqKRd4Lo"
      },
      "execution_count": null,
      "outputs": []
    },
    {
      "cell_type": "markdown",
      "source": [
        "### 3.7 | Uteliggere?\n",
        "Klustringalgoritmer kan være følsommer når det kommer til både skala og uteliggere (outliers). Uteliggere kan trekke centroidene ut av posisjon og derfor gi dårlige klustere.\n",
        "\n",
        "MEN dataene er fortsatt transaksjonsdata. Om vi fjerner uteliggere nå, kan vi risikere å kaste bort info som kan være nyttig senere når vi skal lage variabler knyttet til kjøpsmønsteret.\n",
        "\n",
        "Vi resetter indexen, og sier oss ferdig med første del av databehandlingen."
      ],
      "metadata": {
        "id": "nwS9-iPIbjh-"
      }
    },
    {
      "cell_type": "code",
      "source": [
        "# Resette indeksen etter all rensing\n",
        "df.reset_index(drop=True, inplace=True)\n",
        "\n",
        "# Antall rader i det rensede datasettet\n",
        "print(f\"Antall rader i datasettet etter rensing: {df.shape[0]}\")"
      ],
      "metadata": {
        "id": "6wC88cnPgcVB"
      },
      "execution_count": null,
      "outputs": []
    },
    {
      "cell_type": "markdown",
      "source": [
        "# Oppsummering – Datahåndtering\n",
        "\n",
        "Vi har renset og bearbeidet datasettet slik at det er klart for videre analyse:\n",
        "\n",
        "- ✅ Håndtert manglende verdier:\n",
        "  - Fjernet rader uten `CustomerID` eller `Description`.\n",
        "\n",
        "- ✅ Håndtert duplikater:\n",
        "  - Fjernet helt identiske rader.\n",
        "\n",
        "- ✅ Behandlet kansellerte transaksjoner:\n",
        "  - Merket rader som `Cancelled` eller `Completed` for senere analyse.\n",
        "\n",
        "- ✅ Ryddet opp i StockCode:\n",
        "  - Identifisert og fjernet anomalier (f.eks. `POST`, `BANK CHARGES`).\n",
        "\n",
        "- ✅ Renset Description:\n",
        "  - Fjernet tjeneste-relaterte beskrivelser (`Next Day Carriage` og `High Resolution Image`).\n",
        "  - Standardisert resterende beskrivelser til UPPERCASE.\n",
        "\n",
        "- ✅ Behandlet nullverdier i UnitPrice:\n",
        "  - Fjernet rader med `UnitPrice = 0`.\n",
        "\n",
        "- ✅ Uteliggerbehandling:\n",
        "  - Utsetter dette til etter feature engineering (kundeprofiler).\n",
        "\n",
        "**Datasettet er klart til neste fase - som handler om å bygge:**\n",
        "Der skal vi lage kundesentrerte variabler og segmentere kundene med clustering."
      ],
      "metadata": {
        "id": "Tk8WP2tahIu-"
      }
    }
  ]
}